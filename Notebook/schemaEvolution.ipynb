{
	"metadata": {
		"kernelspec": {
			"name": "glue_pyspark",
			"display_name": "Glue PySpark",
			"language": "python"
		},
		"language_info": {
			"name": "Python_Glue_Session",
			"mimetype": "text/x-python",
			"codemirror_mode": {
				"name": "python",
				"version": 3
			},
			"pygments_lexer": "python3",
			"file_extension": ".py"
		}
	},
	"nbformat_minor": 4,
	"nbformat": 4,
	"cells": [
		{
			"cell_type": "markdown",
			"source": "# AWS Glue Studio Notebook\n##### You are now running a AWS Glue Studio notebook; To start using your notebook you need to start an AWS Glue Interactive Session.\n",
			"metadata": {
				"editable": true,
				"trusted": true
			}
		},
		{
			"cell_type": "markdown",
			"source": "#### Optional: Run this cell to see available notebook commands (\"magics\").\n",
			"metadata": {
				"editable": true,
				"trusted": true
			}
		},
		{
			"cell_type": "code",
			"source": "%help",
			"metadata": {
				"trusted": true,
				"editable": true
			},
			"execution_count": null,
			"outputs": []
		},
		{
			"cell_type": "markdown",
			"source": "####  Run this cell to set up and start your interactive session.\n",
			"metadata": {
				"editable": true,
				"trusted": true
			}
		},
		{
			"cell_type": "code",
			"source": "%idle_timeout 2880\n%glue_version 4.0\n%worker_type G.1X\n%number_of_workers 5\n\n%%configure\n{\n    \"--conf\": \"spark.serializer=org.apache.spark.serializer.KryoSerializer --conf spark.sql.hive.convertMetastoreParquet=false\",\n    \"--enable-glue-datacatalog\" :\"true\",\n    \"--datalake-formats\":\"hudi\"\n}\n\n",
			"metadata": {
				"trusted": true,
				"editable": true
			},
			"execution_count": 6,
			"outputs": [
				{
					"name": "stdout",
					"text": "Welcome to the Glue Interactive Sessions Kernel\nFor more information on available magic commands, please type %help in any new cell.\n\nPlease view our Getting Started page to access the most up-to-date information on the Interactive Sessions kernel: https://docs.aws.amazon.com/glue/latest/dg/interactive-sessions.html\nInstalled kernel version: 1.0.5 \nCurrent idle_timeout is None minutes.\nidle_timeout has been set to 2880 minutes.\nSetting Glue version to: 4.0\nPrevious worker type: None\nSetting new worker type to: G.1X\nPrevious number of workers: None\nSetting new number of workers to: 5\nThe following configurations have been updated: {'--conf': 'spark.serializer=org.apache.spark.serializer.KryoSerializer --conf spark.sql.hive.convertMetastoreParquet=false', '--enable-glue-datacatalog': 'true', '--datalake-formats': 'hudi'}\n",
					"output_type": "stream"
				}
			]
		},
		{
			"cell_type": "code",
			"source": "\n\nimport sys\nfrom awsglue.transforms import *\nfrom awsglue.utils import getResolvedOptions\nfrom pyspark.context import SparkContext\nfrom awsglue.context import GlueContext\nfrom awsglue.job import Job\n\nsc = SparkContext.getOrCreate()\nglueContext = GlueContext(sc)\nspark = glueContext.spark_session\njob = Job(glueContext)\n\n",
			"metadata": {
				"trusted": true,
				"tags": []
			},
			"execution_count": 2,
			"outputs": [
				{
					"name": "stdout",
					"text": "\n",
					"output_type": "stream"
				}
			]
		},
		{
			"cell_type": "code",
			"source": "try:\n    import os\n    import sys\n\n\n    import pyspark\n    from pyspark import SparkConf, SparkContext\n    from pyspark.sql import SparkSession\n    from pyspark.sql.functions import col, asc, desc\n    from awsglue.utils import getResolvedOptions\n    from awsglue.dynamicframe import DynamicFrame\n    from awsglue.context import GlueContext\n\n    #from faker import Faker\n\n    print(\"All modules are loaded .....\")\n\nexcept Exception as e:\n    print(\"Some modules are missing {} \".format(e))",
			"metadata": {
				"trusted": true,
				"tags": []
			},
			"execution_count": 3,
			"outputs": [
				{
					"name": "stdout",
					"text": "All modules are loaded .....\n",
					"output_type": "stream"
				}
			]
		},
		{
			"cell_type": "code",
			"source": "database_name1 = \"hudidb\"\ntable_name = \"hudi_table\"\nbase_s3_path = \"s3a://test-ramneek-2\"\nfinal_base_path = \"{base_s3_path}/{table_name}\".format(\n    base_s3_path=base_s3_path, table_name=table_name\n)",
			"metadata": {
				"trusted": true,
				"tags": []
			},
			"execution_count": 4,
			"outputs": [
				{
					"name": "stdout",
					"text": "\n",
					"output_type": "stream"
				}
			]
		},
		{
			"cell_type": "code",
			"source": "columns = [\"ts\",\"uuid\",\"rider\",\"driver\",\"fare\",\"city\"]\ndata =[(1695159649087,\"334e26e9-8355-45cc-97c6-c31daf0df330\",\"rider-A\",\"driver-K\",19.10,\"san_francisco\"),\n       (1695091554788,\"e96c4396-3fad-413a-a942-4cb36106d721\",\"rider-B\",\"driver-L\",27.70 ,\"san_francisco\"),\n       (1695046462179,\"9909a8b1-2d15-4d3d-8ec9-efc48c536a00\",\"rider-C\",\"driver-M\",33.90 ,\"san_francisco\"),\n       (1695516137016,\"e3cf430c-889d-4015-bc98-59bdce1e530c\",\"rider-C\",\"driver-N\",34.15,\"sao_paulo\")]\n       \n\ninserts = spark.createDataFrame(data).toDF(*columns)",
			"metadata": {
				"trusted": true,
				"tags": []
			},
			"execution_count": 5,
			"outputs": [
				{
					"name": "stdout",
					"text": "\n",
					"output_type": "stream"
				}
			]
		},
		{
			"cell_type": "code",
			"source": "inserts.show()",
			"metadata": {
				"trusted": true,
				"tags": []
			},
			"execution_count": 6,
			"outputs": [
				{
					"name": "stdout",
					"text": "+-------------+--------------------+-------+--------+-----+-------------+\n|           ts|                uuid|  rider|  driver| fare|         city|\n+-------------+--------------------+-------+--------+-----+-------------+\n|1695159649087|334e26e9-8355-45c...|rider-A|driver-K| 19.1|san_francisco|\n|1695091554788|e96c4396-3fad-413...|rider-B|driver-L| 27.7|san_francisco|\n|1695046462179|9909a8b1-2d15-4d3...|rider-C|driver-M| 33.9|san_francisco|\n|1695516137016|e3cf430c-889d-401...|rider-C|driver-N|34.15|    sao_paulo|\n+-------------+--------------------+-------+--------+-----+-------------+\n",
					"output_type": "stream"
				}
			]
		},
		{
			"cell_type": "code",
			"source": "hudi_options = {\n    'hoodie.table.name': table_name,\n}",
			"metadata": {
				"trusted": true,
				"tags": []
			},
			"execution_count": 7,
			"outputs": [
				{
					"name": "stdout",
					"text": "\n",
					"output_type": "stream"
				}
			]
		},
		{
			"cell_type": "code",
			"source": "inserts.write.format(\"hudi\"). \\\n    options(**hudi_options). \\\n    mode(\"overwrite\"). \\\n    save(final_base_path)",
			"metadata": {
				"trusted": true,
				"tags": []
			},
			"execution_count": 8,
			"outputs": [
				{
					"name": "stdout",
					"text": "\n",
					"output_type": "stream"
				}
			]
		},
		{
			"cell_type": "code",
			"source": "spark.read.format(\"org.apache.hudi\").load(final_base_path).createOrReplaceTempView(\"hudi_snapshot\")\n\nspark.sql(\"select * from hudi_snapshot\").printSchema()",
			"metadata": {
				"trusted": true,
				"tags": []
			},
			"execution_count": 10,
			"outputs": [
				{
					"name": "stdout",
					"text": "root\n |-- _hoodie_commit_time: string (nullable = true)\n |-- _hoodie_commit_seqno: string (nullable = true)\n |-- _hoodie_record_key: string (nullable = true)\n |-- _hoodie_partition_path: string (nullable = true)\n |-- _hoodie_file_name: string (nullable = true)\n |-- ts: long (nullable = true)\n |-- uuid: string (nullable = true)\n |-- rider: string (nullable = true)\n |-- driver: string (nullable = true)\n |-- fare: double (nullable = true)\n |-- city: string (nullable = true)\n",
					"output_type": "stream"
				}
			]
		},
		{
			"cell_type": "code",
			"source": "columns1 = [\"ts\",\"uuid\",\"rider\",\"driver\",\"fare\",\"city\",\"shift\"]\ndata1 =[(1695159649033,\"334e26e9-8355-45cc-97c6-c31daf0df330\",\"rider-E\",\"driver-K\",19.10,\"san_francisco\", \"A\"),\n       (1695091554732,\"e96c4396-3fad-413a-a942-4cb36106d721\",\"rider-F\",\"driver-L\",27.70 ,\"san_francisco\", \"B\")]\n\nupdatedDf = spark.createDataFrame(data1).toDF(*columns1)\n\nupdatedDf.write.format(\"hudi\").options(**hudi_options).mode(\"append\").save(final_base_path)\n\n",
			"metadata": {
				"trusted": true,
				"tags": []
			},
			"execution_count": 11,
			"outputs": [
				{
					"name": "stdout",
					"text": "\n",
					"output_type": "stream"
				}
			]
		},
		{
			"cell_type": "code",
			"source": "spark.read.format(\"org.apache.hudi\").load(final_base_path).createOrReplaceTempView(\"hudi_snapshot\")\n\nspark.sql(\"select * from hudi_snapshot\").printSchema()",
			"metadata": {
				"trusted": true,
				"tags": []
			},
			"execution_count": 12,
			"outputs": [
				{
					"name": "stdout",
					"text": "root\n |-- _hoodie_commit_time: string (nullable = true)\n |-- _hoodie_commit_seqno: string (nullable = true)\n |-- _hoodie_record_key: string (nullable = true)\n |-- _hoodie_partition_path: string (nullable = true)\n |-- _hoodie_file_name: string (nullable = true)\n |-- ts: long (nullable = true)\n |-- uuid: string (nullable = true)\n |-- rider: string (nullable = true)\n |-- driver: string (nullable = true)\n |-- fare: double (nullable = true)\n |-- city: string (nullable = true)\n |-- shift: string (nullable = true)\n",
					"output_type": "stream"
				}
			]
		},
		{
			"cell_type": "code",
			"source": "spark.sql(\"select * from hudi_snapshot\").show()",
			"metadata": {
				"trusted": true,
				"tags": []
			},
			"execution_count": 13,
			"outputs": [
				{
					"name": "stdout",
					"text": "+-------------------+--------------------+--------------------+----------------------+--------------------+-------------+--------------------+-------+--------+-----+-------------+-----+\n|_hoodie_commit_time|_hoodie_commit_seqno|  _hoodie_record_key|_hoodie_partition_path|   _hoodie_file_name|           ts|                uuid|  rider|  driver| fare|         city|shift|\n+-------------------+--------------------+--------------------+----------------------+--------------------+-------------+--------------------+-------+--------+-----+-------------+-----+\n|  20241007074939351|20241007074939351...|334e26e9-8355-45c...|                      |51cb6676-17b5-431...|1695159649033|334e26e9-8355-45c...|rider-E|driver-K| 19.1|san_francisco|    A|\n|  20241007074939351|20241007074939351...|e96c4396-3fad-413...|                      |51cb6676-17b5-431...|1695091554732|e96c4396-3fad-413...|rider-F|driver-L| 27.7|san_francisco|    B|\n|  20241007074222783|20241007074222783...|9909a8b1-2d15-4d3...|                      |51cb6676-17b5-431...|1695046462179|9909a8b1-2d15-4d3...|rider-C|driver-M| 33.9|san_francisco| null|\n|  20241007074222783|20241007074222783...|e3cf430c-889d-401...|                      |51cb6676-17b5-431...|1695516137016|e3cf430c-889d-401...|rider-C|driver-N|34.15|    sao_paulo| null|\n+-------------------+--------------------+--------------------+----------------------+--------------------+-------------+--------------------+-------+--------+-----+-------------+-----+\n",
					"output_type": "stream"
				}
			]
		},
		{
			"cell_type": "code",
			"source": "",
			"metadata": {},
			"execution_count": null,
			"outputs": []
		}
	]
}